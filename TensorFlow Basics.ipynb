{
 "cells": [
  {
   "cell_type": "code",
   "execution_count": 1,
   "id": "bdddafb9",
   "metadata": {},
   "outputs": [],
   "source": [
    "import tensorflow as tf"
   ]
  },
  {
   "cell_type": "code",
   "execution_count": 2,
   "id": "a8fdc935",
   "metadata": {},
   "outputs": [
    {
     "name": "stdout",
     "output_type": "stream",
     "text": [
      "<module 'tensorflow._api.v2.version' from 'C:\\\\Users\\\\saivi\\\\anaconda3\\\\lib\\\\site-packages\\\\tensorflow\\\\_api\\\\v2\\\\version\\\\__init__.py'>\n"
     ]
    }
   ],
   "source": [
    "print(tf.version)"
   ]
  },
  {
   "cell_type": "markdown",
   "id": "5bea5648",
   "metadata": {},
   "source": [
    "A tensor is a generalization of vectors and matrices to potentially higher dimentions. Internally, TensorFlow represents tensors as n-dimentional arrays of base datatype."
   ]
  },
  {
   "cell_type": "code",
   "execution_count": 3,
   "id": "5b12bb49",
   "metadata": {},
   "outputs": [],
   "source": [
    "import numpy as np\n"
   ]
  },
  {
   "cell_type": "code",
   "execution_count": 4,
   "id": "307d2a61",
   "metadata": {},
   "outputs": [
    {
     "name": "stdout",
     "output_type": "stream",
     "text": [
      "tf.Tensor(4, shape=(), dtype=int32)\n"
     ]
    }
   ],
   "source": [
    "# scalar or rank 0 tensor. A scalar contains a single value and no axes\n",
    "rank_0_tensor = tf.constant(4)\n",
    "print(rank_0_tensor)"
   ]
  },
  {
   "cell_type": "code",
   "execution_count": 5,
   "id": "afa85769",
   "metadata": {},
   "outputs": [
    {
     "name": "stdout",
     "output_type": "stream",
     "text": [
      "tf.Tensor([2. 3. 4.], shape=(3,), dtype=float32)\n"
     ]
    }
   ],
   "source": [
    "# vector or rank 1 tensor is like list of values. has one axis.\n",
    "rank_1_tensor = tf.constant([2.0,3.0,4.0])\n",
    "print(rank_1_tensor)"
   ]
  },
  {
   "cell_type": "code",
   "execution_count": 6,
   "id": "98dbaa51",
   "metadata": {},
   "outputs": [
    {
     "name": "stdout",
     "output_type": "stream",
     "text": [
      "tf.Tensor(\n",
      "[[1. 2.]\n",
      " [3. 4.]\n",
      " [5. 6.]], shape=(3, 2), dtype=float16)\n"
     ]
    }
   ],
   "source": [
    "# matrix or rank 2 tensor has 2 axes\n",
    "rank_2_tensor = tf.constant([[1,2],\n",
    "                            [3,4],\n",
    "                            [5,6]], dtype=tf.float16)\n",
    "# if want to be specific, you can set the dtype at creation time\n",
    "print(rank_2_tensor)"
   ]
  },
  {
   "cell_type": "code",
   "execution_count": 7,
   "id": "4aa06244",
   "metadata": {},
   "outputs": [
    {
     "name": "stdout",
     "output_type": "stream",
     "text": [
      "tf.Tensor(\n",
      "[[[ 0  1  2  3  4]\n",
      "  [ 5  6  7  8  9]]\n",
      "\n",
      " [[10 11 12 13 14]\n",
      "  [15 16 17 18 19]]\n",
      "\n",
      " [[20 21 22 23 24]\n",
      "  [25 26 27 28 29]]], shape=(3, 2, 5), dtype=int32)\n"
     ]
    }
   ],
   "source": [
    "# There can be an arbitrary number of axes (sometimes called 'dimensions')\n",
    "rank_3_tensor = tf.constant([[[0,1,2,3,4],\n",
    "                             [5,6,7,8,9]],\n",
    "                            [[10,11,12,13,14],\n",
    "                            [15,16,17,18,19]],\n",
    "                            [[20,21,22,23,24],\n",
    "                            [25,26,27,28,29]]])\n",
    "print(rank_3_tensor)"
   ]
  },
  {
   "cell_type": "code",
   "execution_count": 8,
   "id": "91fb0a7c",
   "metadata": {},
   "outputs": [
    {
     "data": {
      "text/plain": [
       "array([[1., 2.],\n",
       "       [3., 4.],\n",
       "       [5., 6.]], dtype=float16)"
      ]
     },
     "execution_count": 8,
     "metadata": {},
     "output_type": "execute_result"
    }
   ],
   "source": [
    "# to convert a tensor to a NumPy array\n",
    "np.array(rank_2_tensor)"
   ]
  },
  {
   "cell_type": "code",
   "execution_count": 9,
   "id": "85e98c00",
   "metadata": {},
   "outputs": [
    {
     "data": {
      "text/plain": [
       "array([[1., 2.],\n",
       "       [3., 4.],\n",
       "       [5., 6.]], dtype=float16)"
      ]
     },
     "execution_count": 9,
     "metadata": {},
     "output_type": "execute_result"
    }
   ],
   "source": [
    "rank_2_tensor.numpy()"
   ]
  },
  {
   "cell_type": "code",
   "execution_count": 10,
   "id": "51d47e6c",
   "metadata": {},
   "outputs": [
    {
     "data": {
      "text/plain": [
       "' Tensors contains floats, ints, complex numbers and strings.\\nbase tf.Tensor class requires tensors to be rectangular\\n\\n'"
      ]
     },
     "execution_count": 10,
     "metadata": {},
     "output_type": "execute_result"
    }
   ],
   "source": [
    "''' Tensors contains floats, ints, complex numbers and strings.\n",
    "base tf.Tensor class requires tensors to be rectangular\n",
    "\n",
    "'''"
   ]
  },
  {
   "cell_type": "code",
   "execution_count": 11,
   "id": "20c904c2",
   "metadata": {},
   "outputs": [],
   "source": [
    "# basic math on tensors\n",
    "a = tf.constant([[1,2],\n",
    "                [3,4]])\n",
    "b = tf.constant([[1,1],\n",
    "                [1,1]])"
   ]
  },
  {
   "cell_type": "code",
   "execution_count": 12,
   "id": "05bf4970",
   "metadata": {},
   "outputs": [
    {
     "name": "stdout",
     "output_type": "stream",
     "text": [
      "tf.Tensor(\n",
      "[[2 3]\n",
      " [4 5]], shape=(2, 2), dtype=int32)\n"
     ]
    }
   ],
   "source": [
    "print(tf.add(a,b))"
   ]
  },
  {
   "cell_type": "code",
   "execution_count": 13,
   "id": "93a696a4",
   "metadata": {},
   "outputs": [
    {
     "name": "stdout",
     "output_type": "stream",
     "text": [
      "tf.Tensor(\n",
      "[[1 2]\n",
      " [3 4]], shape=(2, 2), dtype=int32)\n"
     ]
    }
   ],
   "source": [
    "print(tf.multiply(a,b))"
   ]
  },
  {
   "cell_type": "code",
   "execution_count": 14,
   "id": "4f401199",
   "metadata": {},
   "outputs": [
    {
     "name": "stdout",
     "output_type": "stream",
     "text": [
      "tf.Tensor(\n",
      "[[3 3]\n",
      " [7 7]], shape=(2, 2), dtype=int32)\n"
     ]
    }
   ],
   "source": [
    "print(tf.matmul(a,b))"
   ]
  },
  {
   "cell_type": "code",
   "execution_count": 15,
   "id": "413bad1b",
   "metadata": {},
   "outputs": [
    {
     "name": "stdout",
     "output_type": "stream",
     "text": [
      "tf.Tensor(\n",
      "[[2 3]\n",
      " [4 5]], shape=(2, 2), dtype=int32)\n"
     ]
    }
   ],
   "source": [
    "print(a+b) # element wise addition"
   ]
  },
  {
   "cell_type": "code",
   "execution_count": 16,
   "id": "70fde631",
   "metadata": {},
   "outputs": [
    {
     "name": "stdout",
     "output_type": "stream",
     "text": [
      "tf.Tensor(\n",
      "[[1 2]\n",
      " [3 4]], shape=(2, 2), dtype=int32)\n"
     ]
    }
   ],
   "source": [
    "print(a * b) # element wise multiplication"
   ]
  },
  {
   "cell_type": "code",
   "execution_count": 17,
   "id": "1ac9778a",
   "metadata": {},
   "outputs": [
    {
     "name": "stdout",
     "output_type": "stream",
     "text": [
      "tf.Tensor(\n",
      "[[3 3]\n",
      " [7 7]], shape=(2, 2), dtype=int32)\n"
     ]
    }
   ],
   "source": [
    "print(a @ b) #matrix multiplication"
   ]
  },
  {
   "cell_type": "code",
   "execution_count": 18,
   "id": "029c0bcf",
   "metadata": {},
   "outputs": [],
   "source": [
    "c = tf.constant([[4.0,5.0],[10.0,1.0]])"
   ]
  },
  {
   "cell_type": "code",
   "execution_count": 19,
   "id": "d45926e5",
   "metadata": {},
   "outputs": [
    {
     "name": "stdout",
     "output_type": "stream",
     "text": [
      "tf.Tensor(10.0, shape=(), dtype=float32)\n"
     ]
    }
   ],
   "source": [
    "# Find the largest value\n",
    "print(tf.reduce_max(c))"
   ]
  },
  {
   "cell_type": "code",
   "execution_count": 20,
   "id": "2835640e",
   "metadata": {},
   "outputs": [
    {
     "name": "stdout",
     "output_type": "stream",
     "text": [
      "tf.Tensor([1 0], shape=(2,), dtype=int64)\n"
     ]
    }
   ],
   "source": [
    "#Find the index of the largest value\n",
    "print(tf.math.argmax(c))"
   ]
  },
  {
   "cell_type": "code",
   "execution_count": 21,
   "id": "88c39a82",
   "metadata": {},
   "outputs": [
    {
     "name": "stdout",
     "output_type": "stream",
     "text": [
      "tf.Tensor(\n",
      "[[2.6894143e-01 7.3105860e-01]\n",
      " [9.9987662e-01 1.2339458e-04]], shape=(2, 2), dtype=float32)\n"
     ]
    }
   ],
   "source": [
    "# Compute the softmax\n",
    "print(tf.nn.softmax(c))"
   ]
  },
  {
   "cell_type": "code",
   "execution_count": 22,
   "id": "7943665d",
   "metadata": {},
   "outputs": [
    {
     "data": {
      "text/plain": [
       "'Typically, anywhere a TensorFlow function expects a Tensor as input, \\nthe function will also accept anything that can be converted to a Tensor '"
      ]
     },
     "execution_count": 22,
     "metadata": {},
     "output_type": "execute_result"
    }
   ],
   "source": [
    "'''Typically, anywhere a TensorFlow function expects a Tensor as input, \n",
    "the function will also accept anything that can be converted to a Tensor '''"
   ]
  },
  {
   "cell_type": "code",
   "execution_count": 23,
   "id": "91f7c0fe",
   "metadata": {},
   "outputs": [
    {
     "data": {
      "text/plain": [
       "<tf.Tensor: shape=(3,), dtype=int32, numpy=array([1, 2, 3])>"
      ]
     },
     "execution_count": 23,
     "metadata": {},
     "output_type": "execute_result"
    }
   ],
   "source": [
    "tf.convert_to_tensor([1,2,3])"
   ]
  },
  {
   "cell_type": "code",
   "execution_count": 24,
   "id": "45a5f17e",
   "metadata": {},
   "outputs": [
    {
     "data": {
      "text/plain": [
       "<tf.Tensor: shape=(), dtype=int32, numpy=3>"
      ]
     },
     "execution_count": 24,
     "metadata": {},
     "output_type": "execute_result"
    }
   ],
   "source": [
    "tf.reduce_max([1,2,3])"
   ]
  },
  {
   "cell_type": "code",
   "execution_count": 25,
   "id": "0518557e",
   "metadata": {},
   "outputs": [
    {
     "data": {
      "text/plain": [
       "<tf.Tensor: shape=(), dtype=int32, numpy=3>"
      ]
     },
     "execution_count": 25,
     "metadata": {},
     "output_type": "execute_result"
    }
   ],
   "source": [
    "tf.reduce_max(np.array([1,2,3]))"
   ]
  },
  {
   "cell_type": "markdown",
   "id": "f2666a02",
   "metadata": {},
   "source": [
    "Tensors have shapes. Some vocabulary:\n",
    "\n",
    "Shape: The length (number of elements) of each of the axes of a tensor.\n",
    "\n",
    "Rank: Number of tensor axes. A scalar has rank 0, a vector has rank 1, a matrix is rank 2.\n",
    "\n",
    "Axis or Dimension: A particular dimension of a tensor.\n",
    "\n",
    "Size: The total number of items in the tensor, the product of the shape vector's elements."
   ]
  },
  {
   "cell_type": "code",
   "execution_count": 26,
   "id": "20cc901a",
   "metadata": {},
   "outputs": [],
   "source": [
    "rank_4_tensor = tf.zeros([3,2,4,5])"
   ]
  },
  {
   "cell_type": "code",
   "execution_count": 27,
   "id": "f1efcf92",
   "metadata": {},
   "outputs": [
    {
     "name": "stdout",
     "output_type": "stream",
     "text": [
      "tf.Tensor(\n",
      "[[[[0. 0. 0. 0. 0.]\n",
      "   [0. 0. 0. 0. 0.]\n",
      "   [0. 0. 0. 0. 0.]\n",
      "   [0. 0. 0. 0. 0.]]\n",
      "\n",
      "  [[0. 0. 0. 0. 0.]\n",
      "   [0. 0. 0. 0. 0.]\n",
      "   [0. 0. 0. 0. 0.]\n",
      "   [0. 0. 0. 0. 0.]]]\n",
      "\n",
      "\n",
      " [[[0. 0. 0. 0. 0.]\n",
      "   [0. 0. 0. 0. 0.]\n",
      "   [0. 0. 0. 0. 0.]\n",
      "   [0. 0. 0. 0. 0.]]\n",
      "\n",
      "  [[0. 0. 0. 0. 0.]\n",
      "   [0. 0. 0. 0. 0.]\n",
      "   [0. 0. 0. 0. 0.]\n",
      "   [0. 0. 0. 0. 0.]]]\n",
      "\n",
      "\n",
      " [[[0. 0. 0. 0. 0.]\n",
      "   [0. 0. 0. 0. 0.]\n",
      "   [0. 0. 0. 0. 0.]\n",
      "   [0. 0. 0. 0. 0.]]\n",
      "\n",
      "  [[0. 0. 0. 0. 0.]\n",
      "   [0. 0. 0. 0. 0.]\n",
      "   [0. 0. 0. 0. 0.]\n",
      "   [0. 0. 0. 0. 0.]]]], shape=(3, 2, 4, 5), dtype=float32)\n"
     ]
    }
   ],
   "source": [
    "print(rank_4_tensor)"
   ]
  },
  {
   "cell_type": "code",
   "execution_count": 28,
   "id": "57695a02",
   "metadata": {},
   "outputs": [
    {
     "name": "stdout",
     "output_type": "stream",
     "text": [
      "Type of every element:  <dtype: 'float32'>\n"
     ]
    }
   ],
   "source": [
    "print('Type of every element: ', rank_4_tensor.dtype)"
   ]
  },
  {
   "cell_type": "code",
   "execution_count": 29,
   "id": "cd2dc8b7",
   "metadata": {},
   "outputs": [
    {
     "name": "stdout",
     "output_type": "stream",
     "text": [
      "Number of axes:  4\n"
     ]
    }
   ],
   "source": [
    "print('Number of axes: ',rank_4_tensor.ndim)\n",
    "# .ndim don't return Tensor objects"
   ]
  },
  {
   "cell_type": "code",
   "execution_count": 30,
   "id": "1dc4387a",
   "metadata": {},
   "outputs": [
    {
     "name": "stdout",
     "output_type": "stream",
     "text": [
      "Shape of tensor:  (3, 2, 4, 5)\n"
     ]
    }
   ],
   "source": [
    "print(\"Shape of tensor: \",rank_4_tensor.shape)\n",
    "# .shape don't return Tensor objects"
   ]
  },
  {
   "cell_type": "code",
   "execution_count": 31,
   "id": "22222fc2",
   "metadata": {},
   "outputs": [
    {
     "name": "stdout",
     "output_type": "stream",
     "text": [
      "Elements along axis 0 of tensor:  3\n"
     ]
    }
   ],
   "source": [
    "print(\"Elements along axis 0 of tensor: \",rank_4_tensor.shape[0])"
   ]
  },
  {
   "cell_type": "code",
   "execution_count": 32,
   "id": "442ed88b",
   "metadata": {},
   "outputs": [
    {
     "name": "stdout",
     "output_type": "stream",
     "text": [
      "Elements along the last axis of tensor:  5\n"
     ]
    }
   ],
   "source": [
    "print(\"Elements along the last axis of tensor: \", rank_4_tensor.shape[-1])"
   ]
  },
  {
   "cell_type": "code",
   "execution_count": 33,
   "id": "beb51fbe",
   "metadata": {},
   "outputs": [
    {
     "name": "stdout",
     "output_type": "stream",
     "text": [
      "Total number of elements (3*2*4*5):  120\n"
     ]
    }
   ],
   "source": [
    "print(\"Total number of elements (3*2*4*5): \", tf.size(rank_4_tensor).numpy())"
   ]
  },
  {
   "cell_type": "code",
   "execution_count": 34,
   "id": "c3195171",
   "metadata": {},
   "outputs": [
    {
     "data": {
      "text/plain": [
       "<tf.Tensor: shape=(), dtype=int32, numpy=4>"
      ]
     },
     "execution_count": 34,
     "metadata": {},
     "output_type": "execute_result"
    }
   ],
   "source": [
    "# to ger tensor output (Number of axes)\n",
    "tf.rank(rank_4_tensor)"
   ]
  },
  {
   "cell_type": "code",
   "execution_count": 35,
   "id": "be6c451d",
   "metadata": {},
   "outputs": [
    {
     "data": {
      "text/plain": [
       "<tf.Tensor: shape=(4,), dtype=int32, numpy=array([3, 2, 4, 5])>"
      ]
     },
     "execution_count": 35,
     "metadata": {},
     "output_type": "execute_result"
    }
   ],
   "source": [
    "# Shape of tensor\n",
    "tf.shape(rank_4_tensor)"
   ]
  },
  {
   "cell_type": "code",
   "execution_count": 36,
   "id": "d7f11242",
   "metadata": {},
   "outputs": [
    {
     "name": "stdout",
     "output_type": "stream",
     "text": [
      "[0 1 2 3 4 5 6 7 8 9]\n"
     ]
    }
   ],
   "source": [
    "rank_1_tensor = tf.constant([0,1,2,3,4,5,6,7,8,9])\n",
    "print(rank_1_tensor.numpy())"
   ]
  },
  {
   "cell_type": "code",
   "execution_count": 37,
   "id": "c2e99148",
   "metadata": {},
   "outputs": [
    {
     "name": "stdout",
     "output_type": "stream",
     "text": [
      "First: 0\n"
     ]
    }
   ],
   "source": [
    "# indexing with a scalar removes the axis\n",
    "print('First:',rank_1_tensor[0].numpy())"
   ]
  },
  {
   "cell_type": "code",
   "execution_count": 38,
   "id": "87407005",
   "metadata": {},
   "outputs": [
    {
     "name": "stdout",
     "output_type": "stream",
     "text": [
      "second:  1\n"
     ]
    }
   ],
   "source": [
    "print('second: ',rank_1_tensor[1].numpy())"
   ]
  },
  {
   "cell_type": "code",
   "execution_count": 39,
   "id": "30ec9312",
   "metadata": {},
   "outputs": [
    {
     "name": "stdout",
     "output_type": "stream",
     "text": [
      "Last:  9\n"
     ]
    }
   ],
   "source": [
    "print('Last: ',rank_1_tensor[-1].numpy())"
   ]
  },
  {
   "cell_type": "code",
   "execution_count": 40,
   "id": "c2b07885",
   "metadata": {},
   "outputs": [
    {
     "name": "stdout",
     "output_type": "stream",
     "text": [
      "Everything:  [0 1 2 3 4 5 6 7 8 9]\n"
     ]
    }
   ],
   "source": [
    "#Indexing with a : slice keeps the axis\n",
    "print(\"Everything: \", rank_1_tensor[:].numpy())"
   ]
  },
  {
   "cell_type": "code",
   "execution_count": 41,
   "id": "51b386eb",
   "metadata": {},
   "outputs": [
    {
     "name": "stdout",
     "output_type": "stream",
     "text": [
      "Before 4:  [0 1 2 3]\n"
     ]
    }
   ],
   "source": [
    "print('Before 4: ', rank_1_tensor[:4].numpy())"
   ]
  },
  {
   "cell_type": "code",
   "execution_count": 42,
   "id": "455e871e",
   "metadata": {},
   "outputs": [
    {
     "name": "stdout",
     "output_type": "stream",
     "text": [
      "Reversed:  [9 8 7 6 5 4 3 2 1 0]\n"
     ]
    }
   ],
   "source": [
    "print('Reversed: ',rank_1_tensor[::-1].numpy())"
   ]
  },
  {
   "cell_type": "code",
   "execution_count": 43,
   "id": "1877a737",
   "metadata": {},
   "outputs": [],
   "source": [
    "# Multi-axis indexing\n",
    "# Higher rank tensors are indexed by passing multiple indices.\n",
    "\n",
    "#The exact same rules as in the single-axis case apply to each axis independently."
   ]
  },
  {
   "cell_type": "code",
   "execution_count": 44,
   "id": "fd86cc9a",
   "metadata": {},
   "outputs": [
    {
     "name": "stdout",
     "output_type": "stream",
     "text": [
      "[[1. 2.]\n",
      " [3. 4.]\n",
      " [5. 6.]]\n"
     ]
    }
   ],
   "source": [
    "print(rank_2_tensor.numpy())"
   ]
  },
  {
   "cell_type": "code",
   "execution_count": 45,
   "id": "30be3750",
   "metadata": {},
   "outputs": [
    {
     "name": "stdout",
     "output_type": "stream",
     "text": [
      "4.0\n"
     ]
    }
   ],
   "source": [
    "print(rank_2_tensor[1][1].numpy())"
   ]
  },
  {
   "cell_type": "code",
   "execution_count": 46,
   "id": "6bc20b80",
   "metadata": {},
   "outputs": [
    {
     "name": "stdout",
     "output_type": "stream",
     "text": [
      "Second row:  [3. 4.]\n"
     ]
    }
   ],
   "source": [
    "print('Second row: ', rank_2_tensor[1][:].numpy())"
   ]
  },
  {
   "cell_type": "code",
   "execution_count": 47,
   "id": "bcec4b56",
   "metadata": {},
   "outputs": [
    {
     "name": "stdout",
     "output_type": "stream",
     "text": [
      "Second column:  [2. 4. 6.]\n"
     ]
    }
   ],
   "source": [
    "print('Second column: ', rank_2_tensor[:,1].numpy())"
   ]
  },
  {
   "cell_type": "code",
   "execution_count": 48,
   "id": "52f86030",
   "metadata": {},
   "outputs": [
    {
     "name": "stdout",
     "output_type": "stream",
     "text": [
      "Last row:  [5. 6.]\n"
     ]
    }
   ],
   "source": [
    "print('Last row: ', rank_2_tensor[2,:].numpy())"
   ]
  },
  {
   "cell_type": "code",
   "execution_count": 49,
   "id": "982df1bc",
   "metadata": {},
   "outputs": [
    {
     "name": "stdout",
     "output_type": "stream",
     "text": [
      "Skip the first row:  [[3. 4.]\n",
      " [5. 6.]]\n"
     ]
    }
   ],
   "source": [
    "print(\"Skip the first row: \", rank_2_tensor[1:].numpy())"
   ]
  },
  {
   "cell_type": "code",
   "execution_count": 50,
   "id": "6c04c220",
   "metadata": {},
   "outputs": [
    {
     "name": "stdout",
     "output_type": "stream",
     "text": [
      "[[[ 0  1  2  3  4]\n",
      "  [ 5  6  7  8  9]]\n",
      "\n",
      " [[10 11 12 13 14]\n",
      "  [15 16 17 18 19]]\n",
      "\n",
      " [[20 21 22 23 24]\n",
      "  [25 26 27 28 29]]]\n"
     ]
    }
   ],
   "source": [
    "# 3-axis tensor\n",
    "print(rank_3_tensor.numpy())"
   ]
  },
  {
   "cell_type": "code",
   "execution_count": 51,
   "id": "5ff4cca2",
   "metadata": {},
   "outputs": [
    {
     "name": "stdout",
     "output_type": "stream",
     "text": [
      "19\n"
     ]
    }
   ],
   "source": [
    "print(rank_3_tensor[1,1,4].numpy())"
   ]
  },
  {
   "cell_type": "code",
   "execution_count": 52,
   "id": "3808a5e4",
   "metadata": {},
   "outputs": [
    {
     "name": "stdout",
     "output_type": "stream",
     "text": [
      "tf.Tensor(\n",
      "[[ 4  9]\n",
      " [14 19]\n",
      " [24 29]], shape=(3, 2), dtype=int32)\n"
     ]
    }
   ],
   "source": [
    "print(rank_3_tensor[:,:,4])"
   ]
  },
  {
   "cell_type": "code",
   "execution_count": 53,
   "id": "b3eb6f69",
   "metadata": {},
   "outputs": [],
   "source": [
    "# Manipulating Shapes"
   ]
  },
  {
   "cell_type": "code",
   "execution_count": 54,
   "id": "1cb6e3fb",
   "metadata": {},
   "outputs": [
    {
     "name": "stdout",
     "output_type": "stream",
     "text": [
      "(3, 1)\n"
     ]
    }
   ],
   "source": [
    "# Shape returns a \"TensorShape\" object that shows the size along each axis\n",
    "x = tf.constant([[1],[2],[3]])\n",
    "print(x.shape)"
   ]
  },
  {
   "cell_type": "code",
   "execution_count": 55,
   "id": "ea32fa34",
   "metadata": {},
   "outputs": [
    {
     "name": "stdout",
     "output_type": "stream",
     "text": [
      "[3, 1]\n"
     ]
    }
   ],
   "source": [
    "# Convertr the shape object to python list\n",
    "print(x.shape.as_list())"
   ]
  },
  {
   "cell_type": "code",
   "execution_count": 56,
   "id": "c445bf64",
   "metadata": {},
   "outputs": [],
   "source": [
    "# Reshape a tensor\n",
    "reshaped = tf.reshape(x,[1,3])"
   ]
  },
  {
   "cell_type": "code",
   "execution_count": 57,
   "id": "f54e964c",
   "metadata": {},
   "outputs": [
    {
     "name": "stdout",
     "output_type": "stream",
     "text": [
      "(3, 1)\n",
      "(1, 3)\n"
     ]
    }
   ],
   "source": [
    "print(x.shape)\n",
    "print(reshaped.shape)"
   ]
  },
  {
   "cell_type": "code",
   "execution_count": 58,
   "id": "304d396e",
   "metadata": {},
   "outputs": [
    {
     "name": "stdout",
     "output_type": "stream",
     "text": [
      "tf.Tensor(\n",
      "[[[ 0  1  2  3  4]\n",
      "  [ 5  6  7  8  9]]\n",
      "\n",
      " [[10 11 12 13 14]\n",
      "  [15 16 17 18 19]]\n",
      "\n",
      " [[20 21 22 23 24]\n",
      "  [25 26 27 28 29]]], shape=(3, 2, 5), dtype=int32)\n"
     ]
    }
   ],
   "source": [
    "print(rank_3_tensor)"
   ]
  },
  {
   "cell_type": "code",
   "execution_count": 59,
   "id": "1de8451d",
   "metadata": {},
   "outputs": [
    {
     "name": "stdout",
     "output_type": "stream",
     "text": [
      "tf.Tensor(\n",
      "[ 0  1  2  3  4  5  6  7  8  9 10 11 12 13 14 15 16 17 18 19 20 21 22 23\n",
      " 24 25 26 27 28 29], shape=(30,), dtype=int32)\n"
     ]
    }
   ],
   "source": [
    "# flattening a tensor you can see what order it is laid out in memory\n",
    "#A -1 passed in the shape argument says \"Whatever fits\"\n",
    "print(tf.reshape(rank_3_tensor,[-1]))"
   ]
  },
  {
   "cell_type": "code",
   "execution_count": 60,
   "id": "19a4cd2c",
   "metadata": {},
   "outputs": [
    {
     "name": "stdout",
     "output_type": "stream",
     "text": [
      "tf.Tensor(\n",
      "[[ 0  1  2  3  4]\n",
      " [ 5  6  7  8  9]\n",
      " [10 11 12 13 14]\n",
      " [15 16 17 18 19]\n",
      " [20 21 22 23 24]\n",
      " [25 26 27 28 29]], shape=(6, 5), dtype=int32)\n"
     ]
    }
   ],
   "source": [
    "# tf.shape is to combine or split adjacent axes\n",
    "print(tf.reshape(rank_3_tensor, [3*2, 5]))"
   ]
  },
  {
   "cell_type": "code",
   "execution_count": 61,
   "id": "72dccd12",
   "metadata": {},
   "outputs": [
    {
     "name": "stdout",
     "output_type": "stream",
     "text": [
      "tf.Tensor(\n",
      "[[ 0  1  2  3  4  5  6  7  8  9]\n",
      " [10 11 12 13 14 15 16 17 18 19]\n",
      " [20 21 22 23 24 25 26 27 28 29]], shape=(3, 10), dtype=int32)\n"
     ]
    }
   ],
   "source": [
    "print(tf.reshape(rank_3_tensor, [3,-1]))"
   ]
  },
  {
   "cell_type": "code",
   "execution_count": 62,
   "id": "118f7220",
   "metadata": {},
   "outputs": [],
   "source": [
    "# Swapping axes through tf.transpose"
   ]
  },
  {
   "cell_type": "markdown",
   "id": "cd105152",
   "metadata": {},
   "source": [
    "## dtypes  \n",
    "\n",
    "To inspect a tf.Tensor's data type use the Tensor.dtype property.\n",
    "\n",
    "When creating a tf.Tensor from a Python object you may optionally specify the datatype.\n",
    "\n",
    "If you don't, TensorFlow chooses a datatype that can represent your data. TensorFlow converts Python integers to tf.int32 and Python floating point numbers to tf.float32. Otherwise TensorFlow uses the same rules NumPy uses when converting to arrays."
   ]
  },
  {
   "cell_type": "code",
   "execution_count": 63,
   "id": "cfea1c38",
   "metadata": {},
   "outputs": [],
   "source": [
    "f64_tensor = tf.constant([2.2,3.3,4.4], dtype = tf.float64)\n",
    "f16_tensor = tf.cast(f64_tensor, dtype=tf.float16)\n",
    "u8_tensor = tf.cast(f16_tensor, dtype=tf.uint8)"
   ]
  },
  {
   "cell_type": "code",
   "execution_count": 64,
   "id": "07bdc19b",
   "metadata": {},
   "outputs": [
    {
     "name": "stdout",
     "output_type": "stream",
     "text": [
      "tf.Tensor([2.2 3.3 4.4], shape=(3,), dtype=float64)\n"
     ]
    }
   ],
   "source": [
    "print(f64_tensor)"
   ]
  },
  {
   "cell_type": "code",
   "execution_count": 65,
   "id": "1e00cf83",
   "metadata": {},
   "outputs": [
    {
     "name": "stdout",
     "output_type": "stream",
     "text": [
      "tf.Tensor([2.2 3.3 4.4], shape=(3,), dtype=float16)\n"
     ]
    }
   ],
   "source": [
    "print(f16_tensor)"
   ]
  },
  {
   "cell_type": "code",
   "execution_count": 66,
   "id": "c27f5b99",
   "metadata": {},
   "outputs": [
    {
     "name": "stdout",
     "output_type": "stream",
     "text": [
      "tf.Tensor([2 3 4], shape=(3,), dtype=uint8)\n"
     ]
    }
   ],
   "source": [
    "print(u8_tensor)"
   ]
  },
  {
   "cell_type": "markdown",
   "id": "a45841b0",
   "metadata": {},
   "source": [
    "## Broadcasting\n",
    "\n",
    "When you attempt to multiply or add a tensor to a scalar, the scalar is broadcasted to be the same shape as the other argument."
   ]
  },
  {
   "cell_type": "code",
   "execution_count": 67,
   "id": "54e731f7",
   "metadata": {},
   "outputs": [],
   "source": [
    "x = tf.constant([1,2,3])\n",
    "y = tf.constant(2)\n",
    "z = tf.constant([2,2,2])"
   ]
  },
  {
   "cell_type": "code",
   "execution_count": 68,
   "id": "5646ce66",
   "metadata": {},
   "outputs": [
    {
     "name": "stdout",
     "output_type": "stream",
     "text": [
      "tf.Tensor([2 4 6], shape=(3,), dtype=int32)\n"
     ]
    }
   ],
   "source": [
    "# All of these are the same computation\n",
    "print(tf.multiply(x,2))"
   ]
  },
  {
   "cell_type": "code",
   "execution_count": 69,
   "id": "22d6ddd2",
   "metadata": {},
   "outputs": [
    {
     "name": "stdout",
     "output_type": "stream",
     "text": [
      "tf.Tensor([2 4 6], shape=(3,), dtype=int32)\n"
     ]
    }
   ],
   "source": [
    "print(x*y)"
   ]
  },
  {
   "cell_type": "code",
   "execution_count": 70,
   "id": "cf375198",
   "metadata": {},
   "outputs": [
    {
     "name": "stdout",
     "output_type": "stream",
     "text": [
      "tf.Tensor([2 4 6], shape=(3,), dtype=int32)\n"
     ]
    }
   ],
   "source": [
    "print(x*z)"
   ]
  },
  {
   "cell_type": "code",
   "execution_count": 71,
   "id": "36e1976c",
   "metadata": {},
   "outputs": [],
   "source": [
    "# Likewise, axes with length 1 can be stretched out to match the other \n",
    "# arguments. Both arguments can be stretched in the same computation.\n",
    "#In this case a 3x1 matrix is element-wise multiplied by a 1x4 matrix to \n",
    "# produce a 3x4 matrix. Note how the leading 1 is optional: The shape of y is [4].\n",
    "x = tf.reshape(x, [3,-1])\n",
    "y = tf.range(1,5)"
   ]
  },
  {
   "cell_type": "code",
   "execution_count": 72,
   "id": "aa9b9040",
   "metadata": {},
   "outputs": [
    {
     "name": "stdout",
     "output_type": "stream",
     "text": [
      "tf.Tensor(\n",
      "[[1]\n",
      " [2]\n",
      " [3]], shape=(3, 1), dtype=int32)\n",
      "\n",
      "\n",
      "tf.Tensor([1 2 3 4], shape=(4,), dtype=int32)\n"
     ]
    }
   ],
   "source": [
    "print(x)\n",
    "print('\\n')\n",
    "print(y)"
   ]
  },
  {
   "cell_type": "code",
   "execution_count": 73,
   "id": "226a75ac",
   "metadata": {},
   "outputs": [
    {
     "name": "stdout",
     "output_type": "stream",
     "text": [
      "tf.Tensor(\n",
      "[[ 1  2  3  4]\n",
      " [ 2  4  6  8]\n",
      " [ 3  6  9 12]], shape=(3, 4), dtype=int32)\n"
     ]
    }
   ],
   "source": [
    "print(tf.multiply(x,y))"
   ]
  },
  {
   "cell_type": "code",
   "execution_count": 74,
   "id": "ae1a5684",
   "metadata": {},
   "outputs": [],
   "source": [
    "#Most of the time, broadcasting is both time and space efficient, \n",
    "# as the broadcast operation never materializes the expanded tensors in memory.\n"
   ]
  }
 ],
 "metadata": {
  "kernelspec": {
   "display_name": "Python 3 (ipykernel)",
   "language": "python",
   "name": "python3"
  },
  "language_info": {
   "codemirror_mode": {
    "name": "ipython",
    "version": 3
   },
   "file_extension": ".py",
   "mimetype": "text/x-python",
   "name": "python",
   "nbconvert_exporter": "python",
   "pygments_lexer": "ipython3",
   "version": "3.9.12"
  }
 },
 "nbformat": 4,
 "nbformat_minor": 5
}
