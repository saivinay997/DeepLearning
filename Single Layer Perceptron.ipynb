{
 "cells": [
  {
   "cell_type": "code",
   "execution_count": 1,
   "id": "d26a2318",
   "metadata": {},
   "outputs": [],
   "source": [
    "import numpy as np"
   ]
  },
  {
   "cell_type": "code",
   "execution_count": 2,
   "id": "680d6b98",
   "metadata": {},
   "outputs": [],
   "source": [
    "class Perceptron:\n",
    "    def __init__(self, learning_rate= 0.01, epochs = 1000):\n",
    "        self.lr = learning_rate\n",
    "        self.epochs = epochs\n",
    "        self.activation_func = self.unit_step_func\n",
    "        self.weights = None\n",
    "        self.bias = None\n",
    "        \n",
    "    def unit_step_func(self, x):\n",
    "        return np.where(x>=0, 1, 0)\n",
    "    \n",
    "    def fit(self, X, y):\n",
    "        n_samples, n_features = X.shape\n",
    "        \n",
    "        y_ = np.array([1 if i>0 else 0 for i in y])\n",
    "        \n",
    "        self.weights = np.zeros(n_features)\n",
    "        self.bias = 0\n",
    "        weights_0 = []\n",
    "        x_index = [x for x in range(self.epochs)]\n",
    "        for _ in range(self.epochs):\n",
    "            for ixd , x_i in enumerate(X):\n",
    "                linear_output = np.dot(x_i, self.weights) + self.bias\n",
    "                y_pred = self.activation_func(linear_output)\n",
    "                \n",
    "                update = self.lr * (y_[ixd] - y_pred)\n",
    "                \n",
    "                self.weights += update * x_i\n",
    "                self.bias += update\n",
    "            weights_0.append(self.weights[0])\n",
    "            #x_index.append()\n",
    "        print(weights_0)\n",
    "        print(x_index)\n",
    "        plt.scatter(weights_0, x_index)\n",
    "        \n",
    "        \n",
    "    def predict(self, X):\n",
    "        linear_output = np.dot(X, self.weights) + self.bias\n",
    "        y_pred = self.activation_func(linear_output)\n",
    "        return y_pred\n",
    "        "
   ]
  },
  {
   "cell_type": "code",
   "execution_count": 3,
   "id": "d6a82b09",
   "metadata": {},
   "outputs": [],
   "source": [
    "if __name__ == \"__main__\":\n",
    "    \n",
    "    import matplotlib.pyplot as plt\n",
    "    from sklearn.model_selection import train_test_split\n",
    "    from sklearn import datasets\n",
    "    \n",
    "    def accuracy(y_true, y_pred):\n",
    "        return np.sum(y_true == y_pred) / len(y_true)\n",
    "    \n",
    "    X, y = datasets.make_blobs(n_samples=150, n_features=2, \n",
    "                               centers=2, cluster_std=2, random_state=2)\n",
    "    X_train, X_test, y_train, y_test = train_test_split(X,y,test_size=0.2, \n",
    "                                                        random_state=123)\n",
    "    "
   ]
  },
  {
   "cell_type": "code",
   "execution_count": 4,
   "id": "ff8b75dc",
   "metadata": {},
   "outputs": [
    {
     "name": "stdout",
     "output_type": "stream",
     "text": [
      "[1 0 1 1 0 0 0 1 1 0 0 0 1 1 1 1 1 0 1 0 0 1 0 1 1 1 1 0 1 0 1 1 1 0 1 0 1\n",
      " 0 1 0 0 0 1 0 1 1 0 0 0 1 0 1 0 0 0 0 0 0 0 0 1 1 1 0 1 0 1 0 1 1 0 1 1 1\n",
      " 1 0 1 0 1 1 1 1 1 1 0 1 1 1 1 0 0 1 1 1 0 0 0 1 1 0 0 0 1 1 0 1 0 0 0 1 0\n",
      " 1 0 0 0 0 0 0 0 1 0 0 0 1 0 0 0 1 1 0 0 1 1 1 0 1 1 1 0 1 0 1 0 0 0 0 1 0\n",
      " 1 1]\n"
     ]
    }
   ],
   "source": [
    "print(y)"
   ]
  },
  {
   "cell_type": "code",
   "execution_count": 5,
   "id": "cc821bdf",
   "metadata": {},
   "outputs": [],
   "source": [
    "p = Perceptron(learning_rate=0.010, epochs=100)"
   ]
  },
  {
   "cell_type": "code",
   "execution_count": 6,
   "id": "0c21a1d8",
   "metadata": {},
   "outputs": [
    {
     "name": "stdout",
     "output_type": "stream",
     "text": [
      "[0.032723903917452384, 0.023541888245762917, 0.04508095985069455, 0.02225895250382685, 0.03455048583697851, 0.035026685301064106, 0.0355028847651497, 0.03597908422923529, 0.024229097144773094, 0.028010385157342124, 0.028486584621427717, 0.02896278408551331, 0.041254317418664976, 0.03680519618716757, 0.037281395651253164, 0.01678817864922546, 0.017264378113311052, 0.029555911446462718, 0.03003211091054831, 0.030508310374633904, 0.030984509838719497, 0.033602803085781584, 0.04499116409913825, 0.025270590216321567, 0.03480896715136908, 0.043859819099477795, 0.02413924521666111, 0.026757538463723196, 0.03814589947707986, 0.04953426049043652, 0.029813686607619835, 0.03935206354266735, 0.04840291549077606, 0.028682341607959377, 0.03822071854300689, 0.05652916324434898, 0.03447108029628434, 0.04400945723133186, 0.06231790193267395, 0.06338597987294661, 0.053623691852685465, 0.06501205286604213, 0.05524976484578098, 0.0539803337208057, 0.04463596230822765, 0.03693397248220574, 0.058698535965801046, 0.0489362479455399, 0.050004325885812564, 0.04024203786555142, 0.04270593639383806, 0.03294364837357691, 0.04361204428358094, 0.04607594281186758, 0.036313654791606434, 0.04698205070161046, 0.049445949229897104, 0.039683661209635956, 0.050352057119639984, 0.040589769099378836, 0.058898213800720925, 0.05996629174099359, 0.05020400372073244, 0.06087239963073647, 0.05111011161047532, 0.04984068048550004, 0.08968970058676656, 0.07992741256650542, 0.051282376198618695, 0.043580386372596785, 0.08342940647386331, 0.07366711845360215, 0.063904830433341, 0.06263539930836572, 0.05287311128810457, 0.04311082326784342, 0.044178901208116086, 0.03441661318785494, 0.03688051171614158, 0.039344410244428224, 0.06110897372802353, 0.05134668570776238, 0.05381058423604902, 0.044048296215787874, 0.0547166921257919, 0.057180590654078545, 0.0474183026338174, 0.04988220116210404, 0.04011991314184289, 0.05078830905184692, 0.05325220758013356, 0.043489919559872414, 0.05415831546987644, 0.056622213998163085, 0.04685992597790194, 0.04932382450618858, 0.03956153648592743, 0.05022993239593146, 0.0526938309242181, 0.042931542903956954]\n",
      "[0, 1, 2, 3, 4, 5, 6, 7, 8, 9, 10, 11, 12, 13, 14, 15, 16, 17, 18, 19, 20, 21, 22, 23, 24, 25, 26, 27, 28, 29, 30, 31, 32, 33, 34, 35, 36, 37, 38, 39, 40, 41, 42, 43, 44, 45, 46, 47, 48, 49, 50, 51, 52, 53, 54, 55, 56, 57, 58, 59, 60, 61, 62, 63, 64, 65, 66, 67, 68, 69, 70, 71, 72, 73, 74, 75, 76, 77, 78, 79, 80, 81, 82, 83, 84, 85, 86, 87, 88, 89, 90, 91, 92, 93, 94, 95, 96, 97, 98, 99]\n"
     ]
    },
    {
     "data": {
      "image/png": "[encoded data removed]",
      "text/plain": [
       "<Figure size 432x288 with 1 Axes>"
      ]
     },
     "metadata": {
      "needs_background": "light"
     },
     "output_type": "display_data"
    }
   ],
   "source": [
    "p.fit(X_train,y_train)"
   ]
  },
  {
   "cell_type": "code",
   "execution_count": 7,
   "id": "08857677",
   "metadata": {},
   "outputs": [],
   "source": [
    "prediction = p.predict(X_test)"
   ]
  },
  {
   "cell_type": "code",
   "execution_count": null,
   "id": "67e7d0cc",
   "metadata": {},
   "outputs": [],
   "source": []
  },
  {
   "cell_type": "code",
   "execution_count": 8,
   "id": "761038ef",
   "metadata": {},
   "outputs": [
    {
     "data": {
      "text/plain": [
       "1.0"
      ]
     },
     "execution_count": 8,
     "metadata": {},
     "output_type": "execute_result"
    }
   ],
   "source": [
    "accuracy(y_test, prediction)"
   ]
  },
  {
   "cell_type": "code",
   "execution_count": 9,
   "id": "d41dc0d2",
   "metadata": {},
   "outputs": [
    {
     "data": {
      "text/plain": [
       "array([ True,  True,  True,  True,  True,  True,  True,  True,  True,\n",
       "        True,  True,  True,  True,  True,  True,  True,  True,  True,\n",
       "        True,  True,  True,  True,  True,  True,  True,  True,  True,\n",
       "        True,  True,  True])"
      ]
     },
     "execution_count": 9,
     "metadata": {},
     "output_type": "execute_result"
    }
   ],
   "source": [
    "(y_test == prediction)"
   ]
  },
  {
   "cell_type": "code",
   "execution_count": 10,
   "id": "adeaa1de",
   "metadata": {},
   "outputs": [
    {
     "data": {
      "text/plain": [
       "<Figure size 432x288 with 0 Axes>"
      ]
     },
     "metadata": {},
     "output_type": "display_data"
    }
   ],
   "source": [
    "fig = plt.figure()\n"
   ]
  },
  {
   "cell_type": "code",
   "execution_count": 11,
   "id": "93d359b7",
   "metadata": {},
   "outputs": [
    {
     "data": {
      "text/plain": [
       "<matplotlib.collections.PathCollection at 0x1dd41c678e0>"
      ]
     },
     "execution_count": 11,
     "metadata": {},
     "output_type": "execute_result"
    },
    {
     "data": {
      "image/png": "[encoded data removed]",
      "text/plain": [
       "<Figure size 432x288 with 1 Axes>"
      ]
     },
     "metadata": {
      "needs_background": "light"
     },
     "output_type": "display_data"
    }
   ],
   "source": [
    "plt.scatter(X_train[:,0],X_train[:,1])"
   ]
  },
  {
   "cell_type": "code",
   "execution_count": 12,
   "id": "c238d0d4",
   "metadata": {},
   "outputs": [
    {
     "data": {
      "text/plain": [
       "2"
      ]
     },
     "execution_count": 12,
     "metadata": {},
     "output_type": "execute_result"
    }
   ],
   "source": [
    "X_train.ndim"
   ]
  },
  {
   "cell_type": "code",
   "execution_count": 13,
   "id": "ce42bff2",
   "metadata": {},
   "outputs": [],
   "source": [
    "X_AND = np.array([[0,0],\n",
    "                 [0,1],\n",
    "                [1,0],\n",
    "                 [1,1]])\n",
    "y_AND = np.array([0,0,0,1])"
   ]
  },
  {
   "cell_type": "code",
   "execution_count": 14,
   "id": "5fb87103",
   "metadata": {},
   "outputs": [
    {
     "name": "stdout",
     "output_type": "stream",
     "text": [
      "[1.0, 2.0, 2.0, 2.0, 2.0, 2.0, 2.0, 2.0, 2.0, 2.0, 2.0, 2.0, 2.0, 2.0, 2.0, 2.0, 2.0, 2.0, 2.0, 2.0, 2.0, 2.0, 2.0, 2.0, 2.0, 2.0, 2.0, 2.0, 2.0, 2.0, 2.0, 2.0, 2.0, 2.0, 2.0, 2.0, 2.0, 2.0, 2.0, 2.0, 2.0, 2.0, 2.0, 2.0, 2.0, 2.0, 2.0, 2.0, 2.0, 2.0, 2.0, 2.0, 2.0, 2.0, 2.0, 2.0, 2.0, 2.0, 2.0, 2.0, 2.0, 2.0, 2.0, 2.0, 2.0, 2.0, 2.0, 2.0, 2.0, 2.0, 2.0, 2.0, 2.0, 2.0, 2.0, 2.0, 2.0, 2.0, 2.0, 2.0, 2.0, 2.0, 2.0, 2.0, 2.0, 2.0, 2.0, 2.0, 2.0, 2.0, 2.0, 2.0, 2.0, 2.0, 2.0, 2.0, 2.0, 2.0, 2.0, 2.0]\n",
      "[0, 1, 2, 3, 4, 5, 6, 7, 8, 9, 10, 11, 12, 13, 14, 15, 16, 17, 18, 19, 20, 21, 22, 23, 24, 25, 26, 27, 28, 29, 30, 31, 32, 33, 34, 35, 36, 37, 38, 39, 40, 41, 42, 43, 44, 45, 46, 47, 48, 49, 50, 51, 52, 53, 54, 55, 56, 57, 58, 59, 60, 61, 62, 63, 64, 65, 66, 67, 68, 69, 70, 71, 72, 73, 74, 75, 76, 77, 78, 79, 80, 81, 82, 83, 84, 85, 86, 87, 88, 89, 90, 91, 92, 93, 94, 95, 96, 97, 98, 99]\n"
     ]
    },
    {
     "data": {
      "image/png": "[encoded data removed]",
      "text/plain": [
       "<Figure size 432x288 with 1 Axes>"
      ]
     },
     "metadata": {
      "needs_background": "light"
     },
     "output_type": "display_data"
    }
   ],
   "source": [
    "p_AND = Perceptron(learning_rate=1,epochs=100)\n",
    "p_AND.fit(X_AND,y_AND)"
   ]
  },
  {
   "cell_type": "code",
   "execution_count": 15,
   "id": "8b6e9354",
   "metadata": {},
   "outputs": [
    {
     "data": {
      "text/plain": [
       "array(0)"
      ]
     },
     "execution_count": 15,
     "metadata": {},
     "output_type": "execute_result"
    }
   ],
   "source": [
    "y_AND_pred = p_AND.predict([0,0])\n",
    "y_AND_pred"
   ]
  },
  {
   "cell_type": "code",
   "execution_count": 16,
   "id": "4e39e639",
   "metadata": {},
   "outputs": [
    {
     "data": {
      "text/plain": [
       "<matplotlib.collections.PathCollection at 0x1dd41ce1ac0>"
      ]
     },
     "execution_count": 16,
     "metadata": {},
     "output_type": "execute_result"
    },
    {
     "data": {
      "image/png": "[encoded data removed]",
      "text/plain": [
       "<Figure size 432x288 with 1 Axes>"
      ]
     },
     "metadata": {
      "needs_background": "light"
     },
     "output_type": "display_data"
    }
   ],
   "source": [
    "plt.scatter(X_AND[:,0],X_AND[:,1])"
   ]
  },
  {
   "cell_type": "code",
   "execution_count": 17,
   "id": "4bc3bdab",
   "metadata": {},
   "outputs": [
    {
     "name": "stdout",
     "output_type": "stream",
     "text": [
      "-6.149637110202013 9.210634805184585\n",
      "-2.5817450219042333 -6.084941234140083\n"
     ]
    },
    {
     "data": {
      "text/plain": [
       "[<matplotlib.lines.Line2D at 0x1dd41d53d30>]"
      ]
     },
     "execution_count": 17,
     "metadata": {},
     "output_type": "execute_result"
    },
    {
     "data": {
      "image/png": "[encoded data removed]",
      "text/plain": [
       "<Figure size 432x288 with 1 Axes>"
      ]
     },
     "metadata": {
      "needs_background": "light"
     },
     "output_type": "display_data"
    }
   ],
   "source": [
    "fig = plt.figure()\n",
    "ax =  fig.add_subplot(1,1,1)\n",
    "plt.scatter(X_train[:,0], X_train[:,1], marker=\"o\", c=y_train)\n",
    "\n",
    "ymin= np.amin(X_train[:,1])\n",
    "ymax = np.amax(X_train[:,1])\n",
    "ax.set_ylim([ymin - 3, ymax + 3])\n",
    "\n",
    "x0_1 = np.amin(X_train[:,0])\n",
    "x0_2 = np.amax(X_train[:,0])\n",
    "print(x0_1, x0_2)\n",
    "\n",
    "\n",
    "x1_1 = (-p.weights[0] * x0_1 - p.bias) / p.weights[1]\n",
    "x1_2 = (-p.weights[0] * x0_2 - p.bias) / p.weights[1]\n",
    "print(x1_1, x1_2)\n",
    "ax.plot([x0_1, x0_2], [x1_1, x1_2], \"k\")"
   ]
  },
  {
   "cell_type": "code",
   "execution_count": 18,
   "id": "0ac04eb0",
   "metadata": {},
   "outputs": [
    {
     "data": {
      "text/plain": [
       "array([0.04293154, 0.18823958])"
      ]
     },
     "execution_count": 18,
     "metadata": {},
     "output_type": "execute_result"
    }
   ],
   "source": [
    "p.weights"
   ]
  },
  {
   "cell_type": "code",
   "execution_count": 19,
   "id": "f06fe445",
   "metadata": {},
   "outputs": [
    {
     "data": {
      "text/plain": [
       "0.7500000000000004"
      ]
     },
     "execution_count": 19,
     "metadata": {},
     "output_type": "execute_result"
    }
   ],
   "source": [
    "p.bias"
   ]
  },
  {
   "cell_type": "code",
   "execution_count": null,
   "id": "0ebda031",
   "metadata": {},
   "outputs": [],
   "source": []
  },
  {
   "cell_type": "code",
   "execution_count": null,
   "id": "410af8e8",
   "metadata": {},
   "outputs": [],
   "source": []
  }
 ],
 "metadata": {
  "kernelspec": {
   "display_name": "Python 3 (ipykernel)",
   "language": "python",
   "name": "python3"
  },
  "language_info": {
   "codemirror_mode": {
    "name": "ipython",
    "version": 3
   },
   "file_extension": ".py",
   "mimetype": "text/x-python",
   "name": "python",
   "nbconvert_exporter": "python",
   "pygments_lexer": "ipython3",
   "version": "3.9.12"
  }
 },
 "nbformat": 4,
 "nbformat_minor": 5
}
